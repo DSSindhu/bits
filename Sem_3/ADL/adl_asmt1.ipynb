{
 "cells": [
  {
   "cell_type": "code",
   "execution_count": 44,
   "metadata": {
    "collapsed": true,
    "ExecuteTime": {
     "end_time": "2024-07-06T12:06:07.768880Z",
     "start_time": "2024-07-06T12:06:04.641608300Z"
    }
   },
   "outputs": [],
   "source": [
    "import tensorflow as tf\n",
    "import numpy as np\n",
    "from keras.datasets import cifar10\n",
    "import cv2\n",
    "from keras.utils import to_categorical\n",
    "from keras.preprocessing.image import img_to_array, array_to_img, img_to_array, load_img\n",
    "\n",
    "from sklearn.preprocessing import StandardScaler\n",
    "from sklearn.decomposition import PCA\n",
    "\n",
    "import matplotlib.pyplot as plt"
   ]
  },
  {
   "cell_type": "code",
   "execution_count": 26,
   "outputs": [],
   "source": [
    "(x_train, y_train), (x_test, y_test) = cifar10.load_data()"
   ],
   "metadata": {
    "collapsed": false,
    "ExecuteTime": {
     "end_time": "2024-07-06T11:54:14.054596900Z",
     "start_time": "2024-07-06T11:54:13.598133Z"
    }
   }
  },
  {
   "cell_type": "code",
   "execution_count": 12,
   "outputs": [
    {
     "name": "stdout",
     "output_type": "stream",
     "text": [
      "(32, 32, 3) (32, 32)\n",
      "(32, 32, 3) (32, 32)\n",
      "(32, 32, 3) (32, 32)\n",
      "(32, 32, 3) (32, 32)\n",
      "(32, 32, 3) (32, 32)\n",
      "(32, 32, 3) (32, 32)\n",
      "(32, 32, 3) (32, 32)\n",
      "(32, 32, 3) (32, 32)\n",
      "(32, 32, 3) (32, 32)\n",
      "(32, 32, 3) (32, 32)\n"
     ]
    }
   ],
   "source": [
    "# x_train.shape\n",
    "for i in x_train[:10]:\n",
    "    t = cv2.cvtColor(i, cv2.COLOR_BGR2GRAY)\n",
    "    print(i.shape, t.shape)"
   ],
   "metadata": {
    "collapsed": false,
    "ExecuteTime": {
     "end_time": "2024-07-06T11:40:17.545556600Z",
     "start_time": "2024-07-06T11:40:17.533558200Z"
    }
   }
  },
  {
   "cell_type": "code",
   "execution_count": 29,
   "outputs": [],
   "source": [
    "def rgb_to_grayscale(images):\n",
    "    grayscale_images = []\n",
    "    for image in images:\n",
    "        # Convert using OpenCV's BGR to grayscale conversion (assumes BGR format)\n",
    "        grayscale_image = cv2.cvtColor(image, cv2.COLOR_BGR2GRAY)\n",
    "        grayscale_images.append(grayscale_image)\n",
    "    return np.array(grayscale_images)\n",
    "\n",
    "# Apply grayscale conversion\n",
    "x_train_gray = rgb_to_grayscale(x_train)\n",
    "x_test_gray = rgb_to_grayscale(x_test)\n",
    "\n",
    "x_train_gray = x_train_gray.reshape(x_train_gray.shape[0], 32, 32, 1)\n",
    "x_test_gray = x_test_gray.reshape(x_test_gray.shape[0], 32, 32, 1)\n",
    "\n",
    "# Normalize pixel values (optional but recommended)\n",
    "x_train_gray = x_train_gray.astype('float32') / 255\n",
    "x_test_gray = x_test_gray.astype('float32') / 255"
   ],
   "metadata": {
    "collapsed": false,
    "ExecuteTime": {
     "end_time": "2024-07-06T11:58:35.681444800Z",
     "start_time": "2024-07-06T11:58:34.859545800Z"
    }
   }
  },
  {
   "cell_type": "markdown",
   "source": [
    "##### Task 1: Perform standard PCA and identify the eigenvectors associated with top eigenvalues with 95% total energy (i,e.,  >=95 percent). Using these, train a logistic regression classifier to classify the images into 10 classes. Draw the ROC curve for the test dataset. Repeat the same with randomized PCA and compare."
   ],
   "metadata": {
    "collapsed": false
   }
  },
  {
   "cell_type": "code",
   "execution_count": 34,
   "outputs": [
    {
     "data": {
      "text/plain": "<Figure size 40x40 with 1 Axes>",
      "image/png": "[encoded data removed]"
     },
     "metadata": {},
     "output_type": "display_data"
    },
    {
     "data": {
      "text/plain": "<Figure size 40x40 with 1 Axes>",
      "image/png": "[encoded data removed]"
     },
     "metadata": {},
     "output_type": "display_data"
    },
    {
     "data": {
      "text/plain": "<Figure size 40x40 with 1 Axes>",
      "image/png": "[encoded data removed]"
     },
     "metadata": {},
     "output_type": "display_data"
    },
    {
     "data": {
      "text/plain": "<Figure size 40x40 with 1 Axes>",
      "image/png": "[encoded data removed]"
     },
     "metadata": {},
     "output_type": "display_data"
    },
    {
     "data": {
      "text/plain": "<Figure size 40x40 with 1 Axes>",
      "image/png": "[encoded data removed]"
     },
     "metadata": {},
     "output_type": "display_data"
    }
   ],
   "source": [
    "num_images_to_print = 5\n",
    "for i in range(num_images_to_print):\n",
    "    plt.figure(figsize=(0.4,0.4))\n",
    "    plt.imshow(x_train_gray[i], cmap='gray')\n",
    "    # plt.title(f'Grayscale Image {i+1}')\n",
    "    plt.axis('off')\n",
    "plt.show()"
   ],
   "metadata": {
    "collapsed": false,
    "ExecuteTime": {
     "end_time": "2024-07-06T11:59:27.303236100Z",
     "start_time": "2024-07-06T11:59:27.194304100Z"
    }
   }
  },
  {
   "cell_type": "code",
   "execution_count": 52,
   "outputs": [
    {
     "name": "stdout",
     "output_type": "stream",
     "text": [
      "159\n"
     ]
    },
    {
     "data": {
      "text/plain": "(50000, 1024, (50000, 1024), (50000, 159))"
     },
     "execution_count": 52,
     "metadata": {},
     "output_type": "execute_result"
    }
   ],
   "source": [
    "num_images = x_train_gray.shape[0]\n",
    "image_size = np.prod(x_train_gray.shape[1:])\n",
    "x_flat = x_train_gray.reshape(num_images, image_size)\n",
    "\n",
    "# begin normalisation for pca\n",
    "scaler = StandardScaler()\n",
    "X_scaled = scaler.fit_transform(x_flat)\n",
    "\n",
    "pca = PCA()\n",
    "pca.fit(X_scaled)\n",
    "cumulative_variance_ratio = np.cumsum(pca.explained_variance_ratio_)\n",
    "n_components = np.argmax(cumulative_variance_ratio >= 0.95) + 1\n",
    "print(n_components)\n",
    "\n",
    "pca = PCA(n_components=n_components)\n",
    "X_pca = pca.fit_transform(X_scaled)\n",
    "\n",
    "num_images, image_size, X_scaled.shape, X_pca.shape"
   ],
   "metadata": {
    "collapsed": false,
    "ExecuteTime": {
     "end_time": "2024-07-06T12:08:28.592413100Z",
     "start_time": "2024-07-06T12:08:19.335194800Z"
    }
   }
  },
  {
   "cell_type": "code",
   "execution_count": 53,
   "outputs": [
    {
     "name": "stdout",
     "output_type": "stream",
     "text": [
      "159\n"
     ]
    },
    {
     "data": {
      "text/plain": "(50000, 159)"
     },
     "execution_count": 53,
     "metadata": {},
     "output_type": "execute_result"
    }
   ],
   "source": [
    "random_pca = PCA(svd_solver='randomized')\n",
    "random_pca.fit(X_scaled)\n",
    "random_cumulative_variance_ratio = np.cumsum(random_pca.explained_variance_ratio_)\n",
    "nr_components = np.argmax(random_cumulative_variance_ratio >= 0.95) + 1\n",
    "print(nr_components)\n",
    "\n",
    "random_pca = PCA(n_components=nr_components, svd_solver='randomized')\n",
    "X_pca_random = random_pca.fit_transform(X_scaled)\n",
    "X_pca_random.shape"
   ],
   "metadata": {
    "collapsed": false,
    "ExecuteTime": {
     "end_time": "2024-07-06T12:12:09.532644300Z",
     "start_time": "2024-07-06T12:11:44.673852500Z"
    }
   }
  },
  {
   "cell_type": "code",
   "execution_count": null,
   "outputs": [],
   "source": [],
   "metadata": {
    "collapsed": false
   }
  }
 ],
 "metadata": {
  "kernelspec": {
   "display_name": "Python 3",
   "language": "python",
   "name": "python3"
  },
  "language_info": {
   "codemirror_mode": {
    "name": "ipython",
    "version": 2
   },
   "file_extension": ".py",
   "mimetype": "text/x-python",
   "name": "python",
   "nbconvert_exporter": "python",
   "pygments_lexer": "ipython2",
   "version": "2.7.6"
  }
 },
 "nbformat": 4,
 "nbformat_minor": 0
}
